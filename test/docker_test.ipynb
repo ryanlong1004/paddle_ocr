{
 "cells": [
  {
   "cell_type": "code",
   "execution_count": 5,
   "metadata": {},
   "outputs": [
    {
     "data": {
      "text/plain": [
       "{'extractor': 'gm_ocr_v2',\n",
       " 'version': 'v0.1',\n",
       " 'data': [{'filename': 'test.png',\n",
       "   'detections': [{'text': '59',\n",
       "     'confidence': 0.4192351996898651,\n",
       "     'bounding_box': {'top': 133.23828125,\n",
       "      'left': 350.56640625,\n",
       "      'width': 18.76953125,\n",
       "      'height': 12.109375}},\n",
       "    {'text': 'STEAMBOAT',\n",
       "     'confidence': 0.8540378212928772,\n",
       "     'bounding_box': {'top': 200.4453125,\n",
       "      'left': 300.3125,\n",
       "      'width': 114.43359375,\n",
       "      'height': 37.5390625}},\n",
       "    {'text': 'WILLIE',\n",
       "     'confidence': 0.9990625977516174,\n",
       "     'bounding_box': {'top': 224.6640625,\n",
       "      'left': 323.92578125,\n",
       "      'width': 70.234375,\n",
       "      'height': 32.08984375}},\n",
       "    {'text': 'SX GREAT WAD DISREY CARTOONS',\n",
       "     'confidence': 0.5691408693790436,\n",
       "     'bounding_box': {'top': 283.39453125,\n",
       "      'left': 276.69921875,\n",
       "      'width': 147.734375,\n",
       "      'height': 28.45703125}},\n",
       "    {'text': 'CI',\n",
       "     'confidence': 0.26395726203918457,\n",
       "     'bounding_box': {'top': 383.90234375,\n",
       "      'left': 24.82421875,\n",
       "      'width': 38.75,\n",
       "      'height': 13.92578125}}]},\n",
       "  {'filename': 'test.png',\n",
       "   'detections': [{'text': '59',\n",
       "     'confidence': 0.4192351996898651,\n",
       "     'bounding_box': {'top': 133.23828125,\n",
       "      'left': 350.56640625,\n",
       "      'width': 18.76953125,\n",
       "      'height': 12.109375}},\n",
       "    {'text': 'STEAMBOAT',\n",
       "     'confidence': 0.8540378212928772,\n",
       "     'bounding_box': {'top': 200.4453125,\n",
       "      'left': 300.3125,\n",
       "      'width': 114.43359375,\n",
       "      'height': 37.5390625}},\n",
       "    {'text': 'WILLIE',\n",
       "     'confidence': 0.9990625977516174,\n",
       "     'bounding_box': {'top': 224.6640625,\n",
       "      'left': 323.92578125,\n",
       "      'width': 70.234375,\n",
       "      'height': 32.08984375}},\n",
       "    {'text': 'SX GREAT WAD DISREY CARTOONS',\n",
       "     'confidence': 0.5691408693790436,\n",
       "     'bounding_box': {'top': 283.39453125,\n",
       "      'left': 276.69921875,\n",
       "      'width': 147.734375,\n",
       "      'height': 28.45703125}},\n",
       "    {'text': 'CI',\n",
       "     'confidence': 0.26395726203918457,\n",
       "     'bounding_box': {'top': 383.90234375,\n",
       "      'left': 24.82421875,\n",
       "      'width': 38.75,\n",
       "      'height': 13.92578125}}]}],\n",
       " 'errors': None}"
      ]
     },
     "execution_count": 5,
     "metadata": {},
     "output_type": "execute_result"
    }
   ],
   "source": [
    "import requests\n",
    "\n",
    "url = \"http://0.0.0.0:8000\"\n",
    "img = (\"images\", open(\"./examples/test.png\", \"rb\"))\n",
    "img2 = (\"images\", open(\"./examples/test.png\", \"rb\"))\n",
    "res = requests.post(f\"{url}/detect\", files=[img, img2])\n",
    "res.json()"
   ]
  },
  {
   "cell_type": "code",
   "execution_count": null,
   "metadata": {},
   "outputs": [],
   "source": []
  }
 ],
 "metadata": {
  "kernelspec": {
   "display_name": "venv",
   "language": "python",
   "name": "python3"
  },
  "language_info": {
   "codemirror_mode": {
    "name": "ipython",
    "version": 3
   },
   "file_extension": ".py",
   "mimetype": "text/x-python",
   "name": "python",
   "nbconvert_exporter": "python",
   "pygments_lexer": "ipython3",
   "version": "3.10.12"
  },
  "orig_nbformat": 4
 },
 "nbformat": 4,
 "nbformat_minor": 2
}
